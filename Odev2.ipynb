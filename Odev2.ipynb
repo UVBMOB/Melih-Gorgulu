{
 "cells": [
  {
   "cell_type": "code",
   "execution_count": 3,
   "metadata": {},
   "outputs": [],
   "source": [
    "import pandas as pd\n",
    "import numpy as np\n",
    "import matplotlib.pyplot as plt \n",
    "import seaborn as sns\n",
    "from scipy import stats\n"
   ]
  },
  {
   "cell_type": "code",
   "execution_count": 4,
   "metadata": {},
   "outputs": [],
   "source": [
    "df = pd.read_csv('banka.csv')"
   ]
  },
  {
   "cell_type": "code",
   "execution_count": 5,
   "metadata": {},
   "outputs": [
    {
     "data": {
      "text/html": [
       "<div>\n",
       "<style scoped>\n",
       "    .dataframe tbody tr th:only-of-type {\n",
       "        vertical-align: middle;\n",
       "    }\n",
       "\n",
       "    .dataframe tbody tr th {\n",
       "        vertical-align: top;\n",
       "    }\n",
       "\n",
       "    .dataframe thead th {\n",
       "        text-align: right;\n",
       "    }\n",
       "</style>\n",
       "<table border=\"1\" class=\"dataframe\">\n",
       "  <thead>\n",
       "    <tr style=\"text-align: right;\">\n",
       "      <th></th>\n",
       "      <th>bad</th>\n",
       "      <th>loan</th>\n",
       "      <th>mortdue</th>\n",
       "      <th>value</th>\n",
       "      <th>reason</th>\n",
       "      <th>job</th>\n",
       "      <th>yoj</th>\n",
       "      <th>derog</th>\n",
       "      <th>delinq</th>\n",
       "      <th>clage</th>\n",
       "      <th>ninq</th>\n",
       "      <th>clno</th>\n",
       "      <th>debtinc</th>\n",
       "    </tr>\n",
       "  </thead>\n",
       "  <tbody>\n",
       "    <tr>\n",
       "      <th>0</th>\n",
       "      <td>0</td>\n",
       "      <td>81200</td>\n",
       "      <td>18834.0</td>\n",
       "      <td>108355.0</td>\n",
       "      <td>HomeImp</td>\n",
       "      <td>NaN</td>\n",
       "      <td>28.0</td>\n",
       "      <td>0.0</td>\n",
       "      <td>0.0</td>\n",
       "      <td>139.14</td>\n",
       "      <td>0.0</td>\n",
       "      <td>14.0</td>\n",
       "      <td>34.042</td>\n",
       "    </tr>\n",
       "    <tr>\n",
       "      <th>1</th>\n",
       "      <td>0</td>\n",
       "      <td>12600</td>\n",
       "      <td>103960.0</td>\n",
       "      <td>127384.0</td>\n",
       "      <td>DebtCon</td>\n",
       "      <td>NaN</td>\n",
       "      <td>2.0</td>\n",
       "      <td>0.0</td>\n",
       "      <td>0.0</td>\n",
       "      <td>129.02</td>\n",
       "      <td>0.0</td>\n",
       "      <td>25.0</td>\n",
       "      <td>34.479</td>\n",
       "    </tr>\n",
       "    <tr>\n",
       "      <th>2</th>\n",
       "      <td>0</td>\n",
       "      <td>18000</td>\n",
       "      <td>46865.0</td>\n",
       "      <td>61266.0</td>\n",
       "      <td>DebtCon</td>\n",
       "      <td>NaN</td>\n",
       "      <td>5.0</td>\n",
       "      <td>0.0</td>\n",
       "      <td>0.0</td>\n",
       "      <td>102.59</td>\n",
       "      <td>2.0</td>\n",
       "      <td>9.0</td>\n",
       "      <td>26.354</td>\n",
       "    </tr>\n",
       "    <tr>\n",
       "      <th>3</th>\n",
       "      <td>0</td>\n",
       "      <td>10300</td>\n",
       "      <td>57676.0</td>\n",
       "      <td>71027.0</td>\n",
       "      <td>DebtCon</td>\n",
       "      <td>NaN</td>\n",
       "      <td>19.0</td>\n",
       "      <td>0.0</td>\n",
       "      <td>0.0</td>\n",
       "      <td>157.52</td>\n",
       "      <td>1.0</td>\n",
       "      <td>11.0</td>\n",
       "      <td>33.992</td>\n",
       "    </tr>\n",
       "    <tr>\n",
       "      <th>4</th>\n",
       "      <td>0</td>\n",
       "      <td>9400</td>\n",
       "      <td>56508.0</td>\n",
       "      <td>78358.0</td>\n",
       "      <td>DebtCon</td>\n",
       "      <td>NaN</td>\n",
       "      <td>17.0</td>\n",
       "      <td>0.0</td>\n",
       "      <td>0.0</td>\n",
       "      <td>141.93</td>\n",
       "      <td>0.0</td>\n",
       "      <td>11.0</td>\n",
       "      <td>32.327</td>\n",
       "    </tr>\n",
       "  </tbody>\n",
       "</table>\n",
       "</div>"
      ],
      "text/plain": [
       "   bad   loan   mortdue     value   reason  job   yoj  derog  delinq   clage  \\\n",
       "0    0  81200   18834.0  108355.0  HomeImp  NaN  28.0    0.0     0.0  139.14   \n",
       "1    0  12600  103960.0  127384.0  DebtCon  NaN   2.0    0.0     0.0  129.02   \n",
       "2    0  18000   46865.0   61266.0  DebtCon  NaN   5.0    0.0     0.0  102.59   \n",
       "3    0  10300   57676.0   71027.0  DebtCon  NaN  19.0    0.0     0.0  157.52   \n",
       "4    0   9400   56508.0   78358.0  DebtCon  NaN  17.0    0.0     0.0  141.93   \n",
       "\n",
       "   ninq  clno  debtinc  \n",
       "0   0.0  14.0   34.042  \n",
       "1   0.0  25.0   34.479  \n",
       "2   2.0   9.0   26.354  \n",
       "3   1.0  11.0   33.992  \n",
       "4   0.0  11.0   32.327  "
      ]
     },
     "execution_count": 5,
     "metadata": {},
     "output_type": "execute_result"
    }
   ],
   "source": [
    "df.head()\n"
   ]
  },
  {
   "cell_type": "code",
   "execution_count": 6,
   "metadata": {},
   "outputs": [
    {
     "data": {
      "text/html": [
       "<div>\n",
       "<style scoped>\n",
       "    .dataframe tbody tr th:only-of-type {\n",
       "        vertical-align: middle;\n",
       "    }\n",
       "\n",
       "    .dataframe tbody tr th {\n",
       "        vertical-align: top;\n",
       "    }\n",
       "\n",
       "    .dataframe thead th {\n",
       "        text-align: right;\n",
       "    }\n",
       "</style>\n",
       "<table border=\"1\" class=\"dataframe\">\n",
       "  <thead>\n",
       "    <tr style=\"text-align: right;\">\n",
       "      <th></th>\n",
       "      <th>bad</th>\n",
       "      <th>loan</th>\n",
       "      <th>mortdue</th>\n",
       "      <th>value</th>\n",
       "      <th>reason</th>\n",
       "      <th>job</th>\n",
       "      <th>yoj</th>\n",
       "      <th>derog</th>\n",
       "      <th>delinq</th>\n",
       "      <th>clage</th>\n",
       "      <th>ninq</th>\n",
       "      <th>clno</th>\n",
       "      <th>debtinc</th>\n",
       "    </tr>\n",
       "  </thead>\n",
       "  <tbody>\n",
       "    <tr>\n",
       "      <th>3571</th>\n",
       "      <td>1</td>\n",
       "      <td>8400</td>\n",
       "      <td>31800.0</td>\n",
       "      <td>72000.0</td>\n",
       "      <td>DebtCon</td>\n",
       "      <td>Self</td>\n",
       "      <td>NaN</td>\n",
       "      <td>0.0</td>\n",
       "      <td>2.0</td>\n",
       "      <td>187.27</td>\n",
       "      <td>1.0</td>\n",
       "      <td>21.0</td>\n",
       "      <td>NaN</td>\n",
       "    </tr>\n",
       "    <tr>\n",
       "      <th>3572</th>\n",
       "      <td>1</td>\n",
       "      <td>21600</td>\n",
       "      <td>154991.0</td>\n",
       "      <td>NaN</td>\n",
       "      <td>DebtCon</td>\n",
       "      <td>Self</td>\n",
       "      <td>NaN</td>\n",
       "      <td>2.0</td>\n",
       "      <td>4.0</td>\n",
       "      <td>165.60</td>\n",
       "      <td>0.0</td>\n",
       "      <td>43.0</td>\n",
       "      <td>38.015</td>\n",
       "    </tr>\n",
       "    <tr>\n",
       "      <th>3573</th>\n",
       "      <td>1</td>\n",
       "      <td>24000</td>\n",
       "      <td>35000.0</td>\n",
       "      <td>NaN</td>\n",
       "      <td>DebtCon</td>\n",
       "      <td>Self</td>\n",
       "      <td>3.0</td>\n",
       "      <td>1.0</td>\n",
       "      <td>0.0</td>\n",
       "      <td>177.50</td>\n",
       "      <td>0.0</td>\n",
       "      <td>16.0</td>\n",
       "      <td>NaN</td>\n",
       "    </tr>\n",
       "    <tr>\n",
       "      <th>3574</th>\n",
       "      <td>1</td>\n",
       "      <td>10000</td>\n",
       "      <td>NaN</td>\n",
       "      <td>25010.0</td>\n",
       "      <td>HomeImp</td>\n",
       "      <td>Self</td>\n",
       "      <td>5.0</td>\n",
       "      <td>0.0</td>\n",
       "      <td>3.0</td>\n",
       "      <td>326.13</td>\n",
       "      <td>4.0</td>\n",
       "      <td>17.0</td>\n",
       "      <td>NaN</td>\n",
       "    </tr>\n",
       "    <tr>\n",
       "      <th>3575</th>\n",
       "      <td>1</td>\n",
       "      <td>5900</td>\n",
       "      <td>NaN</td>\n",
       "      <td>28000.0</td>\n",
       "      <td>DebtCon</td>\n",
       "      <td>Self</td>\n",
       "      <td>1.0</td>\n",
       "      <td>2.0</td>\n",
       "      <td>1.0</td>\n",
       "      <td>36.77</td>\n",
       "      <td>1.0</td>\n",
       "      <td>8.0</td>\n",
       "      <td>NaN</td>\n",
       "    </tr>\n",
       "  </tbody>\n",
       "</table>\n",
       "</div>"
      ],
      "text/plain": [
       "      bad   loan   mortdue    value   reason   job  yoj  derog  delinq  \\\n",
       "3571    1   8400   31800.0  72000.0  DebtCon  Self  NaN    0.0     2.0   \n",
       "3572    1  21600  154991.0      NaN  DebtCon  Self  NaN    2.0     4.0   \n",
       "3573    1  24000   35000.0      NaN  DebtCon  Self  3.0    1.0     0.0   \n",
       "3574    1  10000       NaN  25010.0  HomeImp  Self  5.0    0.0     3.0   \n",
       "3575    1   5900       NaN  28000.0  DebtCon  Self  1.0    2.0     1.0   \n",
       "\n",
       "       clage  ninq  clno  debtinc  \n",
       "3571  187.27   1.0  21.0      NaN  \n",
       "3572  165.60   0.0  43.0   38.015  \n",
       "3573  177.50   0.0  16.0      NaN  \n",
       "3574  326.13   4.0  17.0      NaN  \n",
       "3575   36.77   1.0   8.0      NaN  "
      ]
     },
     "execution_count": 6,
     "metadata": {},
     "output_type": "execute_result"
    }
   ],
   "source": [
    "df.tail()"
   ]
  },
  {
   "cell_type": "code",
   "execution_count": 7,
   "metadata": {},
   "outputs": [
    {
     "name": "stdout",
     "output_type": "stream",
     "text": [
      "<class 'pandas.core.frame.DataFrame'>\n",
      "RangeIndex: 3576 entries, 0 to 3575\n",
      "Data columns (total 13 columns):\n",
      "bad        3576 non-null int64\n",
      "loan       3576 non-null int64\n",
      "mortdue    3262 non-null float64\n",
      "value      3512 non-null float64\n",
      "reason     3429 non-null object\n",
      "job        3409 non-null object\n",
      "yoj        3264 non-null float64\n",
      "derog      3149 non-null float64\n",
      "delinq     3225 non-null float64\n",
      "clage      3397 non-null float64\n",
      "ninq       3273 non-null float64\n",
      "clno       3443 non-null float64\n",
      "debtinc    2809 non-null float64\n",
      "dtypes: float64(9), int64(2), object(2)\n",
      "memory usage: 363.3+ KB\n"
     ]
    }
   ],
   "source": [
    "df.info()"
   ]
  },
  {
   "cell_type": "code",
   "execution_count": 8,
   "metadata": {},
   "outputs": [
    {
     "data": {
      "text/html": [
       "<div>\n",
       "<style scoped>\n",
       "    .dataframe tbody tr th:only-of-type {\n",
       "        vertical-align: middle;\n",
       "    }\n",
       "\n",
       "    .dataframe tbody tr th {\n",
       "        vertical-align: top;\n",
       "    }\n",
       "\n",
       "    .dataframe thead th {\n",
       "        text-align: right;\n",
       "    }\n",
       "</style>\n",
       "<table border=\"1\" class=\"dataframe\">\n",
       "  <thead>\n",
       "    <tr style=\"text-align: right;\">\n",
       "      <th></th>\n",
       "      <th>bad</th>\n",
       "      <th>loan</th>\n",
       "      <th>mortdue</th>\n",
       "      <th>value</th>\n",
       "      <th>reason</th>\n",
       "      <th>job</th>\n",
       "      <th>yoj</th>\n",
       "      <th>derog</th>\n",
       "      <th>delinq</th>\n",
       "      <th>clage</th>\n",
       "      <th>ninq</th>\n",
       "      <th>clno</th>\n",
       "      <th>debtinc</th>\n",
       "    </tr>\n",
       "  </thead>\n",
       "  <tbody>\n",
       "    <tr>\n",
       "      <th>count</th>\n",
       "      <td>3576.000000</td>\n",
       "      <td>3576.000000</td>\n",
       "      <td>3262.000000</td>\n",
       "      <td>3512.000000</td>\n",
       "      <td>3429</td>\n",
       "      <td>3409</td>\n",
       "      <td>3264.000000</td>\n",
       "      <td>3149.000000</td>\n",
       "      <td>3225.000000</td>\n",
       "      <td>3397.000000</td>\n",
       "      <td>3273.000000</td>\n",
       "      <td>3443.000000</td>\n",
       "      <td>2809.000000</td>\n",
       "    </tr>\n",
       "    <tr>\n",
       "      <th>unique</th>\n",
       "      <td>NaN</td>\n",
       "      <td>NaN</td>\n",
       "      <td>NaN</td>\n",
       "      <td>NaN</td>\n",
       "      <td>2</td>\n",
       "      <td>6</td>\n",
       "      <td>NaN</td>\n",
       "      <td>NaN</td>\n",
       "      <td>NaN</td>\n",
       "      <td>NaN</td>\n",
       "      <td>NaN</td>\n",
       "      <td>NaN</td>\n",
       "      <td>NaN</td>\n",
       "    </tr>\n",
       "    <tr>\n",
       "      <th>top</th>\n",
       "      <td>NaN</td>\n",
       "      <td>NaN</td>\n",
       "      <td>NaN</td>\n",
       "      <td>NaN</td>\n",
       "      <td>DebtCon</td>\n",
       "      <td>Other</td>\n",
       "      <td>NaN</td>\n",
       "      <td>NaN</td>\n",
       "      <td>NaN</td>\n",
       "      <td>NaN</td>\n",
       "      <td>NaN</td>\n",
       "      <td>NaN</td>\n",
       "      <td>NaN</td>\n",
       "    </tr>\n",
       "    <tr>\n",
       "      <th>freq</th>\n",
       "      <td>NaN</td>\n",
       "      <td>NaN</td>\n",
       "      <td>NaN</td>\n",
       "      <td>NaN</td>\n",
       "      <td>2371</td>\n",
       "      <td>1431</td>\n",
       "      <td>NaN</td>\n",
       "      <td>NaN</td>\n",
       "      <td>NaN</td>\n",
       "      <td>NaN</td>\n",
       "      <td>NaN</td>\n",
       "      <td>NaN</td>\n",
       "      <td>NaN</td>\n",
       "    </tr>\n",
       "    <tr>\n",
       "      <th>mean</th>\n",
       "      <td>0.199385</td>\n",
       "      <td>18529.697987</td>\n",
       "      <td>74013.907992</td>\n",
       "      <td>101076.922759</td>\n",
       "      <td>NaN</td>\n",
       "      <td>NaN</td>\n",
       "      <td>8.832644</td>\n",
       "      <td>0.261670</td>\n",
       "      <td>0.432558</td>\n",
       "      <td>179.832529</td>\n",
       "      <td>1.186373</td>\n",
       "      <td>21.507116</td>\n",
       "      <td>33.831737</td>\n",
       "    </tr>\n",
       "    <tr>\n",
       "      <th>std</th>\n",
       "      <td>0.399594</td>\n",
       "      <td>11262.834060</td>\n",
       "      <td>44016.833772</td>\n",
       "      <td>54865.275351</td>\n",
       "      <td>NaN</td>\n",
       "      <td>NaN</td>\n",
       "      <td>7.568046</td>\n",
       "      <td>0.865178</td>\n",
       "      <td>1.099230</td>\n",
       "      <td>87.066198</td>\n",
       "      <td>1.728723</td>\n",
       "      <td>10.167490</td>\n",
       "      <td>9.061837</td>\n",
       "    </tr>\n",
       "    <tr>\n",
       "      <th>min</th>\n",
       "      <td>0.000000</td>\n",
       "      <td>1100.000000</td>\n",
       "      <td>2619.000000</td>\n",
       "      <td>8800.000000</td>\n",
       "      <td>NaN</td>\n",
       "      <td>NaN</td>\n",
       "      <td>0.000000</td>\n",
       "      <td>0.000000</td>\n",
       "      <td>0.000000</td>\n",
       "      <td>0.490000</td>\n",
       "      <td>0.000000</td>\n",
       "      <td>0.000000</td>\n",
       "      <td>0.720000</td>\n",
       "    </tr>\n",
       "    <tr>\n",
       "      <th>25%</th>\n",
       "      <td>0.000000</td>\n",
       "      <td>11000.000000</td>\n",
       "      <td>46700.250000</td>\n",
       "      <td>65753.000000</td>\n",
       "      <td>NaN</td>\n",
       "      <td>NaN</td>\n",
       "      <td>3.000000</td>\n",
       "      <td>0.000000</td>\n",
       "      <td>0.000000</td>\n",
       "      <td>115.600000</td>\n",
       "      <td>0.000000</td>\n",
       "      <td>15.000000</td>\n",
       "      <td>29.140000</td>\n",
       "    </tr>\n",
       "    <tr>\n",
       "      <th>50%</th>\n",
       "      <td>0.000000</td>\n",
       "      <td>16200.000000</td>\n",
       "      <td>65858.000000</td>\n",
       "      <td>89183.000000</td>\n",
       "      <td>NaN</td>\n",
       "      <td>NaN</td>\n",
       "      <td>7.000000</td>\n",
       "      <td>0.000000</td>\n",
       "      <td>0.000000</td>\n",
       "      <td>173.640000</td>\n",
       "      <td>1.000000</td>\n",
       "      <td>20.000000</td>\n",
       "      <td>34.747000</td>\n",
       "    </tr>\n",
       "    <tr>\n",
       "      <th>75%</th>\n",
       "      <td>0.000000</td>\n",
       "      <td>23100.000000</td>\n",
       "      <td>91717.000000</td>\n",
       "      <td>118928.250000</td>\n",
       "      <td>NaN</td>\n",
       "      <td>NaN</td>\n",
       "      <td>13.000000</td>\n",
       "      <td>0.000000</td>\n",
       "      <td>0.000000</td>\n",
       "      <td>230.710000</td>\n",
       "      <td>2.000000</td>\n",
       "      <td>26.000000</td>\n",
       "      <td>38.940000</td>\n",
       "    </tr>\n",
       "    <tr>\n",
       "      <th>max</th>\n",
       "      <td>1.000000</td>\n",
       "      <td>89900.000000</td>\n",
       "      <td>399550.000000</td>\n",
       "      <td>850000.000000</td>\n",
       "      <td>NaN</td>\n",
       "      <td>NaN</td>\n",
       "      <td>41.000000</td>\n",
       "      <td>10.000000</td>\n",
       "      <td>15.000000</td>\n",
       "      <td>1168.230000</td>\n",
       "      <td>17.000000</td>\n",
       "      <td>71.000000</td>\n",
       "      <td>203.312000</td>\n",
       "    </tr>\n",
       "  </tbody>\n",
       "</table>\n",
       "</div>"
      ],
      "text/plain": [
       "                bad          loan        mortdue          value   reason  \\\n",
       "count   3576.000000   3576.000000    3262.000000    3512.000000     3429   \n",
       "unique          NaN           NaN            NaN            NaN        2   \n",
       "top             NaN           NaN            NaN            NaN  DebtCon   \n",
       "freq            NaN           NaN            NaN            NaN     2371   \n",
       "mean       0.199385  18529.697987   74013.907992  101076.922759      NaN   \n",
       "std        0.399594  11262.834060   44016.833772   54865.275351      NaN   \n",
       "min        0.000000   1100.000000    2619.000000    8800.000000      NaN   \n",
       "25%        0.000000  11000.000000   46700.250000   65753.000000      NaN   \n",
       "50%        0.000000  16200.000000   65858.000000   89183.000000      NaN   \n",
       "75%        0.000000  23100.000000   91717.000000  118928.250000      NaN   \n",
       "max        1.000000  89900.000000  399550.000000  850000.000000      NaN   \n",
       "\n",
       "          job          yoj        derog       delinq        clage  \\\n",
       "count    3409  3264.000000  3149.000000  3225.000000  3397.000000   \n",
       "unique      6          NaN          NaN          NaN          NaN   \n",
       "top     Other          NaN          NaN          NaN          NaN   \n",
       "freq     1431          NaN          NaN          NaN          NaN   \n",
       "mean      NaN     8.832644     0.261670     0.432558   179.832529   \n",
       "std       NaN     7.568046     0.865178     1.099230    87.066198   \n",
       "min       NaN     0.000000     0.000000     0.000000     0.490000   \n",
       "25%       NaN     3.000000     0.000000     0.000000   115.600000   \n",
       "50%       NaN     7.000000     0.000000     0.000000   173.640000   \n",
       "75%       NaN    13.000000     0.000000     0.000000   230.710000   \n",
       "max       NaN    41.000000    10.000000    15.000000  1168.230000   \n",
       "\n",
       "               ninq         clno      debtinc  \n",
       "count   3273.000000  3443.000000  2809.000000  \n",
       "unique          NaN          NaN          NaN  \n",
       "top             NaN          NaN          NaN  \n",
       "freq            NaN          NaN          NaN  \n",
       "mean       1.186373    21.507116    33.831737  \n",
       "std        1.728723    10.167490     9.061837  \n",
       "min        0.000000     0.000000     0.720000  \n",
       "25%        0.000000    15.000000    29.140000  \n",
       "50%        1.000000    20.000000    34.747000  \n",
       "75%        2.000000    26.000000    38.940000  \n",
       "max       17.000000    71.000000   203.312000  "
      ]
     },
     "execution_count": 8,
     "metadata": {},
     "output_type": "execute_result"
    }
   ],
   "source": [
    "df.describe(include='all')"
   ]
  },
  {
   "cell_type": "code",
   "execution_count": 9,
   "metadata": {},
   "outputs": [
    {
     "name": "stdout",
     "output_type": "stream",
     "text": [
      "loan cumsum : 0          81200\n",
      "1          93800\n",
      "2         111800\n",
      "3         122100\n",
      "4         131500\n",
      "5         148700\n",
      "6         230900\n",
      "7         237100\n",
      "8         254500\n",
      "9         263400\n",
      "10        282100\n",
      "11        292300\n",
      "12        300400\n",
      "13        379100\n",
      "14        392500\n",
      "15        474700\n",
      "16        484900\n",
      "17        500000\n",
      "18        505700\n",
      "19        587100\n",
      "20        602800\n",
      "21        617600\n",
      "22        638600\n",
      "23        646700\n",
      "24        654800\n",
      "25        669900\n",
      "26        684700\n",
      "27        766100\n",
      "28        845300\n",
      "29        854800\n",
      "          ...   \n",
      "3546    65624600\n",
      "3547    65651900\n",
      "3548    65689200\n",
      "3549    65702500\n",
      "3550    65722100\n",
      "3551    65732900\n",
      "3552    65776900\n",
      "3553    65783200\n",
      "3554    65809100\n",
      "3555    65849100\n",
      "3556    65851900\n",
      "3557    65862900\n",
      "3558    65940100\n",
      "3559    65959100\n",
      "3560    65991100\n",
      "3561    66032900\n",
      "3562    66055400\n",
      "3563    66065400\n",
      "3564    66085400\n",
      "3565    66095300\n",
      "3566    66100300\n",
      "3567    66136800\n",
      "3568    66144300\n",
      "3569    66169300\n",
      "3570    66192300\n",
      "3571    66200700\n",
      "3572    66222300\n",
      "3573    66246300\n",
      "3574    66256300\n",
      "3575    66262200\n",
      "Name: loan, Length: 3576, dtype: int64\n",
      "\n",
      "\n",
      "\n",
      " mortdue cumsum: 0       1.883400e+04\n",
      "1       1.227940e+05\n",
      "2       1.696590e+05\n",
      "3       2.273350e+05\n",
      "4       2.838430e+05\n",
      "5       3.231590e+05\n",
      "6       3.463560e+05\n",
      "7       3.917120e+05\n",
      "8       5.056020e+05\n",
      "9       5.689440e+05\n",
      "10      6.871520e+05\n",
      "11      7.442940e+05\n",
      "12      8.109850e+05\n",
      "13      8.337470e+05\n",
      "14      9.364470e+05\n",
      "15      9.525440e+05\n",
      "16      9.986840e+05\n",
      "17      1.038363e+06\n",
      "18      1.088169e+06\n",
      "19      1.110513e+06\n",
      "20      1.221880e+06\n",
      "21      1.268578e+06\n",
      "22      1.333783e+06\n",
      "23      1.377336e+06\n",
      "24      1.443882e+06\n",
      "25      1.482431e+06\n",
      "26      1.526414e+06\n",
      "27      1.547455e+06\n",
      "28      1.570395e+06\n",
      "29      1.613094e+06\n",
      "            ...     \n",
      "3546    2.394110e+08\n",
      "3547    2.395173e+08\n",
      "3548    2.395860e+08\n",
      "3549    2.396117e+08\n",
      "3550    2.397062e+08\n",
      "3551    2.397418e+08\n",
      "3552    2.398104e+08\n",
      "3553    2.398702e+08\n",
      "3554    2.399282e+08\n",
      "3555    2.400754e+08\n",
      "3556    2.401262e+08\n",
      "3557    2.401803e+08\n",
      "3558    2.402642e+08\n",
      "3559    2.403694e+08\n",
      "3560    2.404618e+08\n",
      "3561    2.406093e+08\n",
      "3562    2.406700e+08\n",
      "3563    2.406905e+08\n",
      "3564    2.408360e+08\n",
      "3565    2.408574e+08\n",
      "3566    2.408634e+08\n",
      "3567    2.409483e+08\n",
      "3568    2.409879e+08\n",
      "3569    2.410478e+08\n",
      "3570    2.412116e+08\n",
      "3571    2.412434e+08\n",
      "3572    2.413984e+08\n",
      "3573    2.414334e+08\n",
      "3574             NaN\n",
      "3575             NaN\n",
      "Name: mortdue, Length: 3576, dtype: float64 \n"
     ]
    }
   ],
   "source": [
    "# bazi col'larin kumulatif toplamlarinin bulunmasi\n",
    "loan_cumsum= df['loan'].cumsum()\n",
    "mortdue_cumsum=df['mortdue'].cumsum()\n",
    "\n",
    "print('loan cumsum : {0}'.format(loan_cumsum))\n",
    "print('\\n\\n\\n mortdue cumsum: {0} '.format(mortdue_cumsum))"
   ]
  },
  {
   "cell_type": "code",
   "execution_count": 10,
   "metadata": {},
   "outputs": [
    {
     "data": {
      "text/plain": [
       "18416160000000"
      ]
     },
     "execution_count": 10,
     "metadata": {},
     "output_type": "execute_result"
    }
   ],
   "source": [
    "np.prod(df[df['loan']>0]['loan'][0:3])"
   ]
  },
  {
   "cell_type": "code",
   "execution_count": 11,
   "metadata": {},
   "outputs": [
    {
     "data": {
      "text/plain": [
       "0             81200\n",
       "1        1023120000\n",
       "2    18416160000000\n",
       "Name: loan, dtype: int64"
      ]
     },
     "execution_count": 11,
     "metadata": {},
     "output_type": "execute_result"
    }
   ],
   "source": [
    "np.cumprod(df[df['loan']>0]['loan'][0:3])"
   ]
  },
  {
   "cell_type": "code",
   "execution_count": 12,
   "metadata": {},
   "outputs": [
    {
     "name": "stderr",
     "output_type": "stream",
     "text": [
      "C:\\Users\\melih\\Anaconda3\\lib\\site-packages\\scipy\\stats\\stats.py:1713: FutureWarning: Using a non-tuple sequence for multidimensional indexing is deprecated; use `arr[tuple(seq)]` instead of `arr[seq]`. In the future this will be interpreted as an array index, `arr[np.array(seq)]`, which will result either in an error or a different result.\n",
      "  return np.add.reduce(sorted[indexer] * weights, axis=axis) / sumval\n"
     ]
    },
    {
     "data": {
      "text/plain": [
       "<matplotlib.axes._subplots.AxesSubplot at 0x1e106006780>"
      ]
     },
     "execution_count": 12,
     "metadata": {},
     "output_type": "execute_result"
    },
    {
     "data": {
      "image/png": "[encoded data removed]",
      "text/plain": [
       "<Figure size 432x288 with 1 Axes>"
      ]
     },
     "metadata": {
      "needs_background": "light"
     },
     "output_type": "display_data"
    }
   ],
   "source": [
    "# bazi columnlarin dagilimlarina bakilmasi\n",
    "\n",
    "sns.distplot(df['loan'])"
   ]
  },
  {
   "cell_type": "code",
   "execution_count": 13,
   "metadata": {},
   "outputs": [
    {
     "data": {
      "text/plain": [
       "<matplotlib.axes._subplots.AxesSubplot at 0x1e105f8bc18>"
      ]
     },
     "execution_count": 13,
     "metadata": {},
     "output_type": "execute_result"
    },
    {
     "data": {
      "image/png": "[encoded data removed]",
      "text/plain": [
       "<Figure size 432x288 with 1 Axes>"
      ]
     },
     "metadata": {
      "needs_background": "light"
     },
     "output_type": "display_data"
    }
   ],
   "source": [
    "sns.distplot(df[df['mortdue'] > 0]['mortdue']) # df['mordue'] > 0 diyerek null degerleri almadik.\n"
   ]
  },
  {
   "cell_type": "code",
   "execution_count": 14,
   "metadata": {},
   "outputs": [
    {
     "data": {
      "image/png": "[encoded data removed]",
      "text/plain": [
       "<Figure size 432x288 with 1 Axes>"
      ]
     },
     "metadata": {
      "needs_background": "light"
     },
     "output_type": "display_data"
    }
   ],
   "source": [
    "# loan'in probibility plot'a bakilmasin\n",
    "import pylab \n",
    "stats.probplot(df['loan'],dist='norm',plot=pylab) # probibility plot\n",
    "pylab.show()\n",
    "\n",
    "# bu normal line'a( kirmizi ) benim noktalarim ne kadar yakin buna buna bakariz.\n",
    "# evet normal dagilima yakin gibi"
   ]
  },
  {
   "cell_type": "code",
   "execution_count": 15,
   "metadata": {},
   "outputs": [
    {
     "name": "stdout",
     "output_type": "stream",
     "text": [
      "Statistics=0.849,p=0.000\n"
     ]
    }
   ],
   "source": [
    "# loan shapiro testi\n",
    "\n",
    "from scipy.stats import shapiro \n",
    "stat,p=shapiro(df['loan'])\n",
    "print('Statistics=%.3f,p=%.3f' % (stat,p))"
   ]
  },
  {
   "cell_type": "code",
   "execution_count": 16,
   "metadata": {
    "scrolled": true
   },
   "outputs": [
    {
     "data": {
      "text/plain": [
       "<matplotlib.axes._subplots.AxesSubplot at 0x1e107926e10>"
      ]
     },
     "execution_count": 16,
     "metadata": {},
     "output_type": "execute_result"
    },
    {
     "data": {
      "image/png": "[encoded data removed]",
      "text/plain": [
       "<Figure size 720x576 with 1 Axes>"
      ]
     },
     "metadata": {
      "needs_background": "light"
     },
     "output_type": "display_data"
    }
   ],
   "source": [
    "# loan ve bad'i ayristirmada yardim ediyor mu bakalim\n",
    "df.boxplot(column='loan',by='bad',figsize=(10,8))"
   ]
  },
  {
   "cell_type": "code",
   "execution_count": 17,
   "metadata": {},
   "outputs": [
    {
     "data": {
      "text/plain": [
       "<matplotlib.axes._subplots.AxesSubplot at 0x1e107961048>"
      ]
     },
     "execution_count": 17,
     "metadata": {},
     "output_type": "execute_result"
    },
    {
     "data": {
      "image/png": "[encoded data removed]",
      "text/plain": [
       "<Figure size 720x576 with 1 Axes>"
      ]
     },
     "metadata": {
      "needs_background": "light"
     },
     "output_type": "display_data"
    }
   ],
   "source": [
    "# mortdue ve bad'i ayristirmada yardim ediyor mu bakalim\n",
    "df.boxplot(column='mortdue',by='bad',figsize=(10,8))"
   ]
  },
  {
   "cell_type": "code",
   "execution_count": 18,
   "metadata": {},
   "outputs": [
    {
     "name": "stdout",
     "output_type": "stream",
     "text": [
      "p:0.0\n",
      "p:2.403162984699039e-24\n"
     ]
    }
   ],
   "source": [
    "# loan'da bad 1 ve bad 0 nasil dagiliyor. Sonuc: Her ikisi de normal dagilmiyor.\n",
    "\n",
    "print('p:{0}'.format(shapiro(df[df['bad']==0]['loan'])[1])) \n",
    "\n",
    "print('p:{0}'.format(shapiro(df[df['bad']==1]['loan'])[1])) "
   ]
  },
  {
   "cell_type": "code",
   "execution_count": 21,
   "metadata": {},
   "outputs": [
    {
     "data": {
      "text/html": [
       "<table class=\"simpletable\">\n",
       "<caption>OLS Regression Results</caption>\n",
       "<tr>\n",
       "  <th>Dep. Variable:</th>          <td>loan</td>       <th>  R-squared:         </th> <td>   0.005</td> \n",
       "</tr>\n",
       "<tr>\n",
       "  <th>Model:</th>                   <td>OLS</td>       <th>  Adj. R-squared:    </th> <td>   0.005</td> \n",
       "</tr>\n",
       "<tr>\n",
       "  <th>Method:</th>             <td>Least Squares</td>  <th>  F-statistic:       </th> <td>   18.38</td> \n",
       "</tr>\n",
       "<tr>\n",
       "  <th>Date:</th>             <td>Sun, 08 Sep 2019</td> <th>  Prob (F-statistic):</th> <td>1.86e-05</td> \n",
       "</tr>\n",
       "<tr>\n",
       "  <th>Time:</th>                 <td>18:15:37</td>     <th>  Log-Likelihood:    </th> <td> -38426.</td> \n",
       "</tr>\n",
       "<tr>\n",
       "  <th>No. Observations:</th>      <td>  3576</td>      <th>  AIC:               </th> <td>7.686e+04</td>\n",
       "</tr>\n",
       "<tr>\n",
       "  <th>Df Residuals:</th>          <td>  3574</td>      <th>  BIC:               </th> <td>7.687e+04</td>\n",
       "</tr>\n",
       "<tr>\n",
       "  <th>Df Model:</th>              <td>     1</td>      <th>                     </th>     <td> </td>    \n",
       "</tr>\n",
       "<tr>\n",
       "  <th>Covariance Type:</th>      <td>nonrobust</td>    <th>                     </th>     <td> </td>    \n",
       "</tr>\n",
       "</table>\n",
       "<table class=\"simpletable\">\n",
       "<tr>\n",
       "       <td></td>          <th>coef</th>     <th>std err</th>      <th>t</th>      <th>P>|t|</th>  <th>[0.025</th>    <th>0.975]</th>  \n",
       "</tr>\n",
       "<tr>\n",
       "  <th>Intercept</th>   <td> 1.893e+04</td> <td>  209.983</td> <td>   90.158</td> <td> 0.000</td> <td> 1.85e+04</td> <td> 1.93e+04</td>\n",
       "</tr>\n",
       "<tr>\n",
       "  <th>C(bad)[T.1]</th> <td>-2015.9369</td> <td>  470.260</td> <td>   -4.287</td> <td> 0.000</td> <td>-2937.942</td> <td>-1093.932</td>\n",
       "</tr>\n",
       "</table>\n",
       "<table class=\"simpletable\">\n",
       "<tr>\n",
       "  <th>Omnibus:</th>       <td>1624.831</td> <th>  Durbin-Watson:     </th> <td>   1.845</td> \n",
       "</tr>\n",
       "<tr>\n",
       "  <th>Prob(Omnibus):</th>  <td> 0.000</td>  <th>  Jarque-Bera (JB):  </th> <td>10212.433</td>\n",
       "</tr>\n",
       "<tr>\n",
       "  <th>Skew:</th>           <td> 2.080</td>  <th>  Prob(JB):          </th> <td>    0.00</td> \n",
       "</tr>\n",
       "<tr>\n",
       "  <th>Kurtosis:</th>       <td>10.158</td>  <th>  Cond. No.          </th> <td>    2.62</td> \n",
       "</tr>\n",
       "</table><br/><br/>Warnings:<br/>[1] Standard Errors assume that the covariance matrix of the errors is correctly specified."
      ],
      "text/plain": [
       "<class 'statsmodels.iolib.summary.Summary'>\n",
       "\"\"\"\n",
       "                            OLS Regression Results                            \n",
       "==============================================================================\n",
       "Dep. Variable:                   loan   R-squared:                       0.005\n",
       "Model:                            OLS   Adj. R-squared:                  0.005\n",
       "Method:                 Least Squares   F-statistic:                     18.38\n",
       "Date:                Sun, 08 Sep 2019   Prob (F-statistic):           1.86e-05\n",
       "Time:                        18:15:37   Log-Likelihood:                -38426.\n",
       "No. Observations:                3576   AIC:                         7.686e+04\n",
       "Df Residuals:                    3574   BIC:                         7.687e+04\n",
       "Df Model:                           1                                         \n",
       "Covariance Type:            nonrobust                                         \n",
       "===============================================================================\n",
       "                  coef    std err          t      P>|t|      [0.025      0.975]\n",
       "-------------------------------------------------------------------------------\n",
       "Intercept    1.893e+04    209.983     90.158      0.000    1.85e+04    1.93e+04\n",
       "C(bad)[T.1] -2015.9369    470.260     -4.287      0.000   -2937.942   -1093.932\n",
       "==============================================================================\n",
       "Omnibus:                     1624.831   Durbin-Watson:                   1.845\n",
       "Prob(Omnibus):                  0.000   Jarque-Bera (JB):            10212.433\n",
       "Skew:                           2.080   Prob(JB):                         0.00\n",
       "Kurtosis:                      10.158   Cond. No.                         2.62\n",
       "==============================================================================\n",
       "\n",
       "Warnings:\n",
       "[1] Standard Errors assume that the covariance matrix of the errors is correctly specified.\n",
       "\"\"\""
      ]
     },
     "execution_count": 21,
     "metadata": {},
     "output_type": "execute_result"
    }
   ],
   "source": [
    "# loan-bad arasindaki iliskiye bakalim\n",
    "\n",
    "import statsmodels.formula.api as smf\n",
    "results_loan = smf.ols('loan ~ C(bad)',data=df).fit()\n",
    "results_loan.summary()\n",
    "\n",
    "\n"
   ]
  },
  {
   "cell_type": "code",
   "execution_count": 22,
   "metadata": {},
   "outputs": [
    {
     "data": {
      "text/html": [
       "<table class=\"simpletable\">\n",
       "<caption>OLS Regression Results</caption>\n",
       "<tr>\n",
       "  <th>Dep. Variable:</th>         <td>mortdue</td>     <th>  R-squared:         </th> <td>   0.003</td> \n",
       "</tr>\n",
       "<tr>\n",
       "  <th>Model:</th>                   <td>OLS</td>       <th>  Adj. R-squared:    </th> <td>   0.003</td> \n",
       "</tr>\n",
       "<tr>\n",
       "  <th>Method:</th>             <td>Least Squares</td>  <th>  F-statistic:       </th> <td>   10.34</td> \n",
       "</tr>\n",
       "<tr>\n",
       "  <th>Date:</th>             <td>Sun, 08 Sep 2019</td> <th>  Prob (F-statistic):</th>  <td>0.00132</td> \n",
       "</tr>\n",
       "<tr>\n",
       "  <th>Time:</th>                 <td>18:16:12</td>     <th>  Log-Likelihood:    </th> <td> -39501.</td> \n",
       "</tr>\n",
       "<tr>\n",
       "  <th>No. Observations:</th>      <td>  3262</td>      <th>  AIC:               </th> <td>7.901e+04</td>\n",
       "</tr>\n",
       "<tr>\n",
       "  <th>Df Residuals:</th>          <td>  3260</td>      <th>  BIC:               </th> <td>7.902e+04</td>\n",
       "</tr>\n",
       "<tr>\n",
       "  <th>Df Model:</th>              <td>     1</td>      <th>                     </th>     <td> </td>    \n",
       "</tr>\n",
       "<tr>\n",
       "  <th>Covariance Type:</th>      <td>nonrobust</td>    <th>                     </th>     <td> </td>    \n",
       "</tr>\n",
       "</table>\n",
       "<table class=\"simpletable\">\n",
       "<tr>\n",
       "       <td></td>          <th>coef</th>     <th>std err</th>      <th>t</th>      <th>P>|t|</th>  <th>[0.025</th>    <th>0.975]</th>  \n",
       "</tr>\n",
       "<tr>\n",
       "  <th>Intercept</th>   <td> 7.524e+04</td> <td>  859.203</td> <td>   87.572</td> <td> 0.000</td> <td> 7.36e+04</td> <td> 7.69e+04</td>\n",
       "</tr>\n",
       "<tr>\n",
       "  <th>C(bad)[T.1]</th> <td>-6212.9070</td> <td> 1932.227</td> <td>   -3.215</td> <td> 0.001</td> <td>   -1e+04</td> <td>-2424.406</td>\n",
       "</tr>\n",
       "</table>\n",
       "<table class=\"simpletable\">\n",
       "<tr>\n",
       "  <th>Omnibus:</th>       <td>1318.699</td> <th>  Durbin-Watson:     </th> <td>   1.704</td>\n",
       "</tr>\n",
       "<tr>\n",
       "  <th>Prob(Omnibus):</th>  <td> 0.000</td>  <th>  Jarque-Bera (JB):  </th> <td>7800.704</td>\n",
       "</tr>\n",
       "<tr>\n",
       "  <th>Skew:</th>           <td> 1.824</td>  <th>  Prob(JB):          </th> <td>    0.00</td>\n",
       "</tr>\n",
       "<tr>\n",
       "  <th>Kurtosis:</th>       <td> 9.639</td>  <th>  Cond. No.          </th> <td>    2.63</td>\n",
       "</tr>\n",
       "</table><br/><br/>Warnings:<br/>[1] Standard Errors assume that the covariance matrix of the errors is correctly specified."
      ],
      "text/plain": [
       "<class 'statsmodels.iolib.summary.Summary'>\n",
       "\"\"\"\n",
       "                            OLS Regression Results                            \n",
       "==============================================================================\n",
       "Dep. Variable:                mortdue   R-squared:                       0.003\n",
       "Model:                            OLS   Adj. R-squared:                  0.003\n",
       "Method:                 Least Squares   F-statistic:                     10.34\n",
       "Date:                Sun, 08 Sep 2019   Prob (F-statistic):            0.00132\n",
       "Time:                        18:16:12   Log-Likelihood:                -39501.\n",
       "No. Observations:                3262   AIC:                         7.901e+04\n",
       "Df Residuals:                    3260   BIC:                         7.902e+04\n",
       "Df Model:                           1                                         \n",
       "Covariance Type:            nonrobust                                         \n",
       "===============================================================================\n",
       "                  coef    std err          t      P>|t|      [0.025      0.975]\n",
       "-------------------------------------------------------------------------------\n",
       "Intercept    7.524e+04    859.203     87.572      0.000    7.36e+04    7.69e+04\n",
       "C(bad)[T.1] -6212.9070   1932.227     -3.215      0.001      -1e+04   -2424.406\n",
       "==============================================================================\n",
       "Omnibus:                     1318.699   Durbin-Watson:                   1.704\n",
       "Prob(Omnibus):                  0.000   Jarque-Bera (JB):             7800.704\n",
       "Skew:                           1.824   Prob(JB):                         0.00\n",
       "Kurtosis:                       9.639   Cond. No.                         2.63\n",
       "==============================================================================\n",
       "\n",
       "Warnings:\n",
       "[1] Standard Errors assume that the covariance matrix of the errors is correctly specified.\n",
       "\"\"\""
      ]
     },
     "execution_count": 22,
     "metadata": {},
     "output_type": "execute_result"
    }
   ],
   "source": [
    "# mortdue-bad arasindaki iliskiye bakalim\n",
    "\n",
    "results_loan = smf.ols('mortdue ~ C(bad)',data=df).fit()\n",
    "results_loan.summary()"
   ]
  },
  {
   "cell_type": "code",
   "execution_count": null,
   "metadata": {},
   "outputs": [],
   "source": []
  }
 ],
 "metadata": {
  "kernelspec": {
   "display_name": "Python 3",
   "language": "python",
   "name": "python3"
  },
  "language_info": {
   "codemirror_mode": {
    "name": "ipython",
    "version": 3
   },
   "file_extension": ".py",
   "mimetype": "text/x-python",
   "name": "python",
   "nbconvert_exporter": "python",
   "pygments_lexer": "ipython3",
   "version": "3.7.1"
  }
 },
 "nbformat": 4,
 "nbformat_minor": 2
}
